{
 "cells": [
  {
   "cell_type": "code",
   "execution_count": 1,
   "id": "701c96a5",
   "metadata": {},
   "outputs": [],
   "source": [
    "import json\n",
    "\n",
    "with open(\"../api_name.json\", \"r\") as f:\n",
    "    api_names = json.load(f)\n",
    "\n",
    "with open(\"../api_category.json\", \"r\") as f:\n",
    "    api_categories = json.load(f)\n",
    "\n",
    "with open(\"../mashup_name.json\", \"r\") as f:\n",
    "    mashup_names = json.load(f)\n",
    "\n",
    "with open(\"../mashup_category.json\", \"r\") as f:\n",
    "    mashup_categories = json.load(f)\n",
    "\n",
    "with open(\"../mashup_used_api.json\", \"r\") as f:\n",
    "    mashup_used_apis = json.load(f)"
   ]
  },
  {
   "cell_type": "code",
   "execution_count": 2,
   "id": "a7355a28",
   "metadata": {},
   "outputs": [
    {
     "name": "stdout",
     "output_type": "stream",
     "text": [
      "Warm start mashup indices: 1837\n",
      "Warm start API indices: 1148\n",
      "Warm start mashup API interactions: [[0, 1, 2, 3], [4, 2, 5, 6, 7], [8, 2, 9, 10, 11, 12], [13, 2, 14], [15, 16, 2, 17, 18, 19, 20, 21]]\n"
     ]
    }
   ],
   "source": [
    "warm_start_mashup_indices = []\n",
    "\n",
    "for i, mashup_used_api in enumerate(mashup_used_apis):\n",
    "    if len(mashup_used_api) >= 3:\n",
    "        warm_start_mashup_indices.append(i)\n",
    "\n",
    "warm_start_api_indices = []\n",
    "warm_start_mashup_api_interactions = []\n",
    "for mashup_i, warm_start_mashup_index in enumerate(warm_start_mashup_indices):\n",
    "    interactions = []\n",
    "    mashup_used_api = mashup_used_apis[warm_start_mashup_index]\n",
    "    # print(mashup_name)\n",
    "    for api_name in mashup_used_api:\n",
    "        api_index = api_names.index(api_name)\n",
    "        if api_index not in warm_start_api_indices:\n",
    "            warm_start_api_indices.append(api_index)\n",
    "        interactions.append(warm_start_api_indices.index(api_index))\n",
    "    warm_start_mashup_api_interactions.append(interactions)\n",
    "\n",
    "print(\"Warm start mashup indices:\", len(warm_start_mashup_indices))\n",
    "print(\"Warm start API indices:\", len(warm_start_api_indices))\n",
    "\n",
    "print(\"Warm start mashup API interactions:\", warm_start_mashup_api_interactions[:5])\n",
    "\n",
    "with open(\"train.txt\", \"w\") as f:\n",
    "    with open(\"test.txt\", \"w\") as f_test:\n",
    "        for i, interactions in enumerate(warm_start_mashup_api_interactions):\n",
    "            train_size = int(len(interactions) * 0.8)\n",
    "            train_interactions = interactions[:train_size]\n",
    "            test_interactions = interactions[train_size:]\n",
    "            train_string = \" \".join([str(x) for x in train_interactions])\n",
    "            test_string = \" \".join([str(x) for x in test_interactions])\n",
    "            train_string = str(i) + \" \" + train_string\n",
    "            test_string = str(i) + \" \" + test_string\n",
    "            f.write(train_string + \"\\n\")\n",
    "            f_test.write(test_string + \"\\n\")\n",
    "f_test.close()\n",
    "f.close()"
   ]
  },
  {
   "cell_type": "code",
   "execution_count": 3,
   "id": "0247bbe5",
   "metadata": {},
   "outputs": [],
   "source": [
    "# build co_category-api matrix\n",
    "co_category_api_matrix = []\n",
    "for i, warm_start_api_index in enumerate(warm_start_api_indices):\n",
    "    i_categories = api_categories[warm_start_api_index]\n",
    "    for j, warm_start_api_index in enumerate(warm_start_api_indices):\n",
    "        if i == j:\n",
    "            continue\n",
    "        j_categories = api_categories[warm_start_api_index]\n",
    "        common_categories = set(i_categories) & set(j_categories)\n",
    "        if len(common_categories) > 0:\n",
    "            co_category_api_matrix.append((i, j, len(common_categories)))\n",
    "\n",
    "with open(\"api_co_category.txt\", \"w\") as f:\n",
    "    for i, j, count in co_category_api_matrix:\n",
    "        f.write(f\"{i} {j} {count}\\n\")"
   ]
  },
  {
   "cell_type": "code",
   "execution_count": 4,
   "id": "d51351d1",
   "metadata": {},
   "outputs": [],
   "source": [
    "co_category_mashup_matrix = []\n",
    "for i, warm_start_mashup_index in enumerate(warm_start_mashup_indices):\n",
    "    i_categories = mashup_categories[warm_start_mashup_index]\n",
    "    for j, warm_start_mashup_index in enumerate(warm_start_mashup_indices):\n",
    "        if i == j:\n",
    "            continue\n",
    "        j_categories = mashup_categories[warm_start_mashup_index]\n",
    "        common_categories = set(i_categories) & set(j_categories)\n",
    "        if len(common_categories) > 0:\n",
    "            co_category_mashup_matrix.append((i, j, len(common_categories)))\n",
    "\n",
    "with open(\"mashup_co_category.txt\", \"w\") as f:\n",
    "    for i, j, count in co_category_mashup_matrix:\n",
    "        f.write(f\"{i} {j} {count}\\n\")"
   ]
  },
  {
   "cell_type": "code",
   "execution_count": 5,
   "id": "5957fdc9",
   "metadata": {},
   "outputs": [
    {
     "name": "stdout",
     "output_type": "stream",
     "text": [
      "Co-category API matrix: 81220\n",
      "Co-category Mashup matrix: 1139910\n"
     ]
    }
   ],
   "source": [
    "print(\"Co-category API matrix:\", len(co_category_api_matrix))\n",
    "print(\"Co-category Mashup matrix:\", len(co_category_mashup_matrix))"
   ]
  },
  {
   "cell_type": "code",
   "execution_count": 6,
   "id": "e37d17dc",
   "metadata": {},
   "outputs": [],
   "source": [
    "co_api_mashup_matrix = []\n",
    "for i, warm_start_mashup_api_interaction in enumerate(warm_start_mashup_api_interactions):\n",
    "    i_interactions = warm_start_mashup_api_interaction\n",
    "    for j, warm_start_mashup_api_interaction in enumerate(warm_start_mashup_api_interactions):\n",
    "        if i == j:\n",
    "            continue\n",
    "        j_interactions = warm_start_mashup_api_interaction\n",
    "        common_interactions = set(i_interactions) & set(j_interactions)\n",
    "        if len(common_interactions) > 0:\n",
    "            co_api_mashup_matrix.append((i, j, len(common_interactions)))\n",
    "\n",
    "with open(\"mashup_co_api.txt\", \"w\") as f:\n",
    "    for i, j, count in co_api_mashup_matrix:\n",
    "        f.write(f\"{i} {j} {count}\\n\")"
   ]
  },
  {
   "cell_type": "code",
   "execution_count": 7,
   "id": "d275f028",
   "metadata": {},
   "outputs": [
    {
     "name": "stdout",
     "output_type": "stream",
     "text": [
      "Co-api mashup matrix: 1091048\n"
     ]
    }
   ],
   "source": [
    "print(\"Co-api mashup matrix:\", len(co_api_mashup_matrix))"
   ]
  },
  {
   "cell_type": "code",
   "execution_count": 9,
   "id": "e17d772a",
   "metadata": {},
   "outputs": [],
   "source": [
    "import numpy as np\n",
    "\n",
    "co_mashup_api_matrix = np.zeros((len(warm_start_api_indices), len(warm_start_api_indices)))\n",
    "for interactions in warm_start_mashup_api_interactions:\n",
    "    for i in interactions:\n",
    "        for j in interactions:\n",
    "            if i != j:\n",
    "                co_mashup_api_matrix[i][j] += 1\n",
    "\n",
    "# save as numpy file\n",
    "np.save(\"co_mashup_api_matrix.npy\", co_mashup_api_matrix)\n",
    "# save as csr matrix\n",
    "from scipy.sparse import csr_matrix, save_npz\n",
    "co_mashup_api_csr = csr_matrix(co_mashup_api_matrix)\n",
    "with open(\"co_mashup_api_matrix.npz\", \"wb\") as f:\n",
    "    save_npz(f, co_mashup_api_csr)"
   ]
  }
 ],
 "metadata": {
  "kernelspec": {
   "display_name": "base",
   "language": "python",
   "name": "python3"
  },
  "language_info": {
   "codemirror_mode": {
    "name": "ipython",
    "version": 3
   },
   "file_extension": ".py",
   "mimetype": "text/x-python",
   "name": "python",
   "nbconvert_exporter": "python",
   "pygments_lexer": "ipython3",
   "version": "3.10.14"
  }
 },
 "nbformat": 4,
 "nbformat_minor": 5
}
