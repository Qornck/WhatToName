{
 "cells": [
  {
   "cell_type": "code",
   "execution_count": 15,
   "id": "9de6ca11",
   "metadata": {},
   "outputs": [
    {
     "name": "stdout",
     "output_type": "stream",
     "text": [
      "23518\n"
     ]
    }
   ],
   "source": [
    "import json\n",
    "\n",
    "with open('api_name.json', 'r') as file:\n",
    "    api_name = json.load(file)\n",
    "\n",
    "print(len(api_name))"
   ]
  },
  {
   "cell_type": "code",
   "execution_count": 16,
   "id": "e30289d4",
   "metadata": {},
   "outputs": [
    {
     "name": "stdout",
     "output_type": "stream",
     "text": [
      "['google-maps']\n"
     ]
    }
   ],
   "source": [
    "with open('mashup_used_api.json', 'r') as file:\n",
    "    mashup_used_api = json.load(file)\n",
    "\n",
    "print(mashup_used_api[0])"
   ]
  },
  {
   "cell_type": "code",
   "execution_count": 17,
   "id": "98f52f59",
   "metadata": {},
   "outputs": [],
   "source": [
    "api_count = {}\n",
    "for apis in mashup_used_api:\n",
    "    for api in apis:\n",
    "        if api in api_count:\n",
    "            api_count[api] += 1\n",
    "        else:\n",
    "            api_count[api] = 1\n",
    "\n",
    "for key, value in api_count.items():\n",
    "    if value == 0:\n",
    "        api_name.remove(key)"
   ]
  },
  {
   "cell_type": "code",
   "execution_count": null,
   "id": "dcfcaa85",
   "metadata": {},
   "outputs": [],
   "source": [
    "import random\n",
    "train = []\n",
    "test = []\n",
    "\n",
    "interactions = []\n",
    "for i, apis in enumerate(mashup_used_api):\n",
    "    interaction = []\n",
    "    for api in apis:\n",
    "        interaction.append(api_name.index(api))\n",
    "    random.shuffle(interaction)\n",
    "    interactions.append(interaction)\n",
    "\n",
    "# random split into train and test\n",
    "for interaction in interactions:\n",
    "    length = len(interaction)\n",
    "    if length > 1:\n",
    "        length = int(length * 0.8)\n",
    "    train.append(interaction[:length])\n",
    "    test.append(interaction[length:])\n",
    "\n",
    "with open(\"train.txt\", \"w\") as f:\n",
    "    for index, i in enumerate(train):\n",
    "        string = \"\".join(str(x) for x in i)\n",
    "        f.write(f\"{index} {string}\\n\")\n",
    "\n",
    "with open(\"test.txt\", \"w\") as f:\n",
    "    for index, i in enumerate(test):\n",
    "        string = \" \".join(str(x) for x in i)\n",
    "        f.write(f\"{index} {string}\\n\")"
   ]
  }
 ],
 "metadata": {
  "kernelspec": {
   "display_name": "base",
   "language": "python",
   "name": "python3"
  },
  "language_info": {
   "codemirror_mode": {
    "name": "ipython",
    "version": 3
   },
   "file_extension": ".py",
   "mimetype": "text/x-python",
   "name": "python",
   "nbconvert_exporter": "python",
   "pygments_lexer": "ipython3",
   "version": "3.10.14"
  }
 },
 "nbformat": 4,
 "nbformat_minor": 5
}
