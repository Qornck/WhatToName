{
 "cells": [
  {
   "cell_type": "code",
   "execution_count": 8,
   "id": "db77e1d4",
   "metadata": {},
   "outputs": [
    {
     "name": "stdout",
     "output_type": "stream",
     "text": [
      "50406\n"
     ]
    }
   ],
   "source": [
    "interactions = []\n",
    "with open(\"./api_co_category.txt\", \"r\") as f:\n",
    "    lines = f.readlines()\n",
    "    for line in lines:\n",
    "        line = line.strip().split(\" \", 1)\n",
    "        api1, api2 = line[0], line[1]\n",
    "        if {api1, api2} not in interactions and {api2, api1} not in interactions:\n",
    "            interactions.append({api1, api2})\n",
    "        else:\n",
    "            continue\n",
    "\n",
    "print(len(interactions))"
   ]
  },
  {
   "cell_type": "code",
   "execution_count": 9,
   "id": "588ebae3",
   "metadata": {},
   "outputs": [
    {
     "name": "stdout",
     "output_type": "stream",
     "text": [
      "100812\n"
     ]
    }
   ],
   "source": [
    "with open(\"./api_co_category.txt\", \"r\") as f:\n",
    "    lines = f.readlines()\n",
    "    print(len(lines))"
   ]
  },
  {
   "cell_type": "code",
   "execution_count": 15,
   "id": "41d9aac1",
   "metadata": {},
   "outputs": [],
   "source": [
    "import numpy as np\n",
    "# 统计每个api的交互次数\n",
    "api_count = np.zeros(1148)\n",
    "for i, interaction in enumerate(interactions):\n",
    "    api1, api2 = list(interaction)\n",
    "    api1, api2 = int(api1), int(api2)\n",
    "    api_count[api1] += 1\n",
    "    api_count[api2] += 1"
   ]
  },
  {
   "cell_type": "code",
   "execution_count": 16,
   "id": "7f8d8643",
   "metadata": {},
   "outputs": [
    {
     "name": "stdout",
     "output_type": "stream",
     "text": [
      "2.0\n",
      "100812.0\n",
      "350.0\n"
     ]
    }
   ],
   "source": [
    "print(min(api_count))\n",
    "print(sum(api_count))\n",
    "print(max(api_count))"
   ]
  },
  {
   "cell_type": "code",
   "execution_count": 21,
   "id": "563305d1",
   "metadata": {},
   "outputs": [
    {
     "name": "stdout",
     "output_type": "stream",
     "text": [
      "[  34   42   45   49   82   93  209  217  236  244  325  351  374  426\n",
      "  481  514  517  532  558  568  604  612  619  656  691  765  833  968\n",
      "  981  998 1018 1037 1047 1055 1096 1132 1135]\n"
     ]
    }
   ],
   "source": [
    "# 从interactions中随机sample5000个\n",
    "import random\n",
    "sampled_interactions = random.sample(interactions, 5000)\n",
    "api_count = np.zeros(1148)\n",
    "for i, interaction in enumerate(sampled_interactions):\n",
    "    api1, api2 = list(interaction)\n",
    "    api1, api2 = int(api1), int(api2)\n",
    "    api_count[api1] += 1\n",
    "    api_count[api2] += 1\n",
    "\n",
    "zero_indices = np.where(api_count == 0)[0]\n",
    "print(zero_indices)"
   ]
  },
  {
   "cell_type": "code",
   "execution_count": 25,
   "id": "e62c6c33",
   "metadata": {},
   "outputs": [
    {
     "name": "stdout",
     "output_type": "stream",
     "text": [
      "(37,)\n"
     ]
    }
   ],
   "source": [
    "print(zero_indices.shape)"
   ]
  },
  {
   "cell_type": "code",
   "execution_count": 24,
   "id": "d1a75889",
   "metadata": {},
   "outputs": [
    {
     "name": "stdout",
     "output_type": "stream",
     "text": [
      "5037\n"
     ]
    }
   ],
   "source": [
    "for i in zero_indices:\n",
    "    for j in range(len(interactions)):\n",
    "        if str(i) in interactions[j]:\n",
    "            sampled_interactions.append(interactions[j])\n",
    "            break\n",
    "\n",
    "print(len(sampled_interactions))"
   ]
  },
  {
   "cell_type": "code",
   "execution_count": 26,
   "id": "74d33b5f",
   "metadata": {},
   "outputs": [],
   "source": [
    "with open(\"simplified_api_co_category.txt\", \"w\") as f:\n",
    "    for interaction in sampled_interactions:\n",
    "        api1, api2 = list(interaction)\n",
    "        f.write(f\"{api1} {api2}\\n\")"
   ]
  },
  {
   "cell_type": "code",
   "execution_count": 27,
   "id": "f559d98a",
   "metadata": {},
   "outputs": [
    {
     "ename": "KeyboardInterrupt",
     "evalue": "",
     "output_type": "error",
     "traceback": [
      "\u001b[0;31m---------------------------------------------------------------------------\u001b[0m",
      "\u001b[0;31mKeyboardInterrupt\u001b[0m                         Traceback (most recent call last)",
      "Cell \u001b[0;32mIn[27], line 8\u001b[0m\n\u001b[1;32m      6\u001b[0m api1, api2 \u001b[38;5;241m=\u001b[39m line[\u001b[38;5;241m0\u001b[39m], line[\u001b[38;5;241m1\u001b[39m]\n\u001b[1;32m      7\u001b[0m \u001b[38;5;28;01mif\u001b[39;00m {api1, api2} \u001b[38;5;129;01mnot\u001b[39;00m \u001b[38;5;129;01min\u001b[39;00m interactions \u001b[38;5;129;01mand\u001b[39;00m {api2, api1} \u001b[38;5;129;01mnot\u001b[39;00m \u001b[38;5;129;01min\u001b[39;00m interactions:\n\u001b[0;32m----> 8\u001b[0m     \u001b[43minteractions\u001b[49m\u001b[38;5;241;43m.\u001b[39;49m\u001b[43mappend\u001b[49m\u001b[43m(\u001b[49m\u001b[43m{\u001b[49m\u001b[43mapi1\u001b[49m\u001b[43m,\u001b[49m\u001b[43m \u001b[49m\u001b[43mapi2\u001b[49m\u001b[43m}\u001b[49m\u001b[43m)\u001b[49m\n\u001b[1;32m      9\u001b[0m \u001b[38;5;28;01melse\u001b[39;00m:\n\u001b[1;32m     10\u001b[0m     \u001b[38;5;28;01mcontinue\u001b[39;00m\n",
      "\u001b[0;31mKeyboardInterrupt\u001b[0m: "
     ]
    }
   ],
   "source": [
    "interactions = []\n",
    "with open(\"./mashup_co_category.txt\", \"r\") as f:\n",
    "    lines = f.readlines()\n",
    "    for line in lines:\n",
    "        line = line.strip().split(\" \", 1)\n",
    "        api1, api2 = line[0], line[1]\n",
    "        if {api1, api2} not in interactions and {api2, api1} not in interactions:\n",
    "            interactions.append({api1, api2})\n",
    "        else:\n",
    "            continue\n",
    "\n",
    "print(len(interactions))"
   ]
  },
  {
   "cell_type": "code",
   "execution_count": null,
   "id": "f8a9bede",
   "metadata": {},
   "outputs": [],
   "source": [
    "# 从interactions中随机sample5000个\n",
    "import random\n",
    "sampled_interactions = random.sample(interactions, 30000)\n",
    "api_count = np.zeros(1837)\n",
    "for i, interaction in enumerate(sampled_interactions):\n",
    "    api1, api2 = list(interaction)\n",
    "    api1, api2 = int(api1), int(api2)\n",
    "    api_count[api1] += 1\n",
    "    api_count[api2] += 1\n",
    "\n",
    "zero_indices = np.where(api_count == 0)[0]\n",
    "print(zero_indices)\n",
    "\n",
    "for i in zero_indices:\n",
    "    for j in range(len(interactions)):\n",
    "        if str(i) in interactions[j]:\n",
    "            sampled_interactions.append(interactions[j])\n",
    "            break\n",
    "\n",
    "print(len(sampled_interactions))"
   ]
  }
 ],
 "metadata": {
  "kernelspec": {
   "display_name": "base",
   "language": "python",
   "name": "python3"
  },
  "language_info": {
   "codemirror_mode": {
    "name": "ipython",
    "version": 3
   },
   "file_extension": ".py",
   "mimetype": "text/x-python",
   "name": "python",
   "nbconvert_exporter": "python",
   "pygments_lexer": "ipython3",
   "version": "3.10.14"
  }
 },
 "nbformat": 4,
 "nbformat_minor": 5
}
